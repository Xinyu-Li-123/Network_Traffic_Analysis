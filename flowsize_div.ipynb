{
 "cells": [
  {
   "cell_type": "code",
   "execution_count": 1,
   "metadata": {},
   "outputs": [],
   "source": [
    "import utils.stats as stats\n",
    "import utils.data as data\n",
    "import numpy as np\n",
    "import matplotlib.pyplot as plt "
   ]
  },
  {
   "cell_type": "code",
   "execution_count": 14,
   "metadata": {},
   "outputs": [
    {
     "name": "stdout",
     "output_type": "stream",
     "text": [
      "Loading data from:\n",
      "\tdata/dummy/raw.csv\n",
      "Number of packets: 99999\n",
      "Trace duration: 399.04 seconds\n",
      "Num of small flows: 87213/87219\n",
      "Num of big flows: 6/87219\n",
      "Time unit=1.00e-01 with 3990 time intervals and 87213 flows\n",
      "(3990, 87213)\n",
      "87213/87213\n"
     ]
    }
   ],
   "source": [
    "def flowsize_div(time_unit_exp=1):\n",
    "    fig, axes = plt.subplots(2, 2, figsize=(8, 6))\n",
    "    \n",
    "    df = data.load_data(\"dummy\", \"raw.csv\", verbose=False)\n",
    "    total_duration = df[\"time\"].max() - df[\"time\"].min()\n",
    "    # timestamps, timeseries = stats.pkt_count(df, time_unit_exp)\n",
    "    dfg = df.groupby(stats.five_tuple)\n",
    "    flowsizes = dfg.size().reset_index().rename(columns={0: \"size\"})\n",
    "    small_flowheader = flowsizes[flowsizes[\"size\"] <= 10][stats.five_tuple]\n",
    "    big_flowheader = flowsizes[flowsizes[\"size\"] > 10][stats.five_tuple]\n",
    "    \n",
    "    print(f\"Num of small flows: {len(small_flowheader)}/{len(flowsizes)}\")\n",
    "    print(f\"Num of big flows: {len(big_flowheader)}/{len(flowsizes)}\")\n",
    "\n",
    "    _, _, U_small, _, _ = stats.flow_pca(\n",
    "        dfg, \n",
    "        small_flowheader, \n",
    "        total_duration, time_unit_exp, n_components=2, verbose=False)\n",
    "\n",
    "    _, _, U_big, _, _ = stats.flow_pca(\n",
    "        dfg,\n",
    "        big_flowheader,\n",
    "        total_duration, time_unit_exp, n_components=2, verbose=False)\n",
    "\n",
    "    # plot eigenflows\n",
    "    num_t = int(total_duration / 10**time_unit_exp)\n",
    "    t = np.linspace(0, total_duration, num_t)\n",
    "\n",
    "    for i in range(2):\n",
    "        axes[0, i].plot(t, U_small[:, i])\n",
    "        axes[0, i].set_xlabel(\"Time (s)\")\n",
    "        axes[0, i].set_ylabel(\"Eigenflow\")\n",
    "        axes[0, i].set_title(\"Eigenflow {}\".format(i+1))\n",
    "    \n",
    "    for i in range(2):\n",
    "        axes[1, i].plot(t, U_big[:, i])\n",
    "        axes[1, i].set_xlabel(\"Time (s)\")\n",
    "        axes[1, i].set_ylabel(\"Eigenflow\")\n",
    "        axes[1, i].set_title(\"Eigenflow {}\".format(i+1))\n",
    "    \n",
    "\n",
    "flowsize_div(-1)\n"
   ]
  }
 ],
 "metadata": {
  "kernelspec": {
   "display_name": "Python 3.8.10 64-bit",
   "language": "python",
   "name": "python3"
  },
  "language_info": {
   "codemirror_mode": {
    "name": "ipython",
    "version": 3
   },
   "file_extension": ".py",
   "mimetype": "text/x-python",
   "name": "python",
   "nbconvert_exporter": "python",
   "pygments_lexer": "ipython3",
   "version": "3.8.10"
  },
  "orig_nbformat": 4,
  "vscode": {
   "interpreter": {
    "hash": "31f2aee4e71d21fbe5cf8b01ff0e069b9275f58929596ceb00d14d90e3e16cd6"
   }
  }
 },
 "nbformat": 4,
 "nbformat_minor": 2
}
